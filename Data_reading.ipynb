{
 "cells": [
  {
   "cell_type": "code",
   "execution_count": 2,
   "metadata": {},
   "outputs": [
    {
     "name": "stdout",
     "output_type": "stream",
     "text": [
      "Keys: <KeysViewHDF5 ['imgBrick']>\n",
      "<HDF5 dataset \"imgBrick\": shape (73000, 425, 425, 3), type \"|u1\">\n",
      "73000\n",
      "<class 'numpy.ndarray'>\n"
     ]
    }
   ],
   "source": [
    "# Read hdf5 file\n",
    "import h5py\n",
    "import numpy as np\n",
    "from PIL import Image\n",
    "\n",
    "filename = r\"D:\\Downloads\\nsd_stimuli.hdf5\"\n",
    "save_path = r\"C:\\Users\\DELL\\Desktop\\DataSet\\NSD\"\n",
    "with h5py.File(filename, \"r\") as f:\n",
    "    # Print all root level object names (aka keys) \n",
    "    # these can be group or dataset names \n",
    "    print(\"Keys: %s\" % f.keys())\n",
    "    # get first object name/key; may or may NOT be a group\n",
    "    a_group_key = list(f.keys())[0]\n",
    "    print(f[a_group_key])\n",
    "    print(f[a_group_key].shape[0])\n",
    "    print(type(f[a_group_key][0]))\n",
    "    for i in range(f[a_group_key].shape[0]):\n",
    "        #print(f[a_group_key][i])\n",
    "        img = Image.fromarray(f[a_group_key][i])\n",
    "    # save image to save_path\n",
    "        img.save(save_path + \"\\\\\" + str(i) + \".png\")\n",
    "    # # get the object type for a_group_key: usually group or dataset\n",
    "    # print(type(f[a_group_key])) \n",
    "\n",
    "    # # If a_group_key is a group name, \n",
    "    # # this gets the object names in the group and returns as a list\n",
    "    # data = list(f[a_group_key])\n",
    "\n",
    "    # # If a_group_key is a dataset name, \n",
    "    # # this gets the dataset values and returns as a list\n",
    "    # data = list(f[a_group_key])\n",
    "    # # preferred methods to get dataset values:\n",
    "    # ds_obj = f[a_group_key]      # returns as a h5py dataset object\n",
    "    # ds_arr = f[a_group_key][()]  # returns as a numpy array"
   ]
  },
  {
   "cell_type": "code",
   "execution_count": null,
   "metadata": {},
   "outputs": [],
   "source": []
  }
 ],
 "metadata": {
  "kernelspec": {
   "display_name": "pytorch",
   "language": "python",
   "name": "python3"
  },
  "language_info": {
   "codemirror_mode": {
    "name": "ipython",
    "version": 3
   },
   "file_extension": ".py",
   "mimetype": "text/x-python",
   "name": "python",
   "nbconvert_exporter": "python",
   "pygments_lexer": "ipython3",
   "version": "3.9.16"
  },
  "orig_nbformat": 4
 },
 "nbformat": 4,
 "nbformat_minor": 2
}
